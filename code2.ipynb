{
 "cells": [
  {
   "cell_type": "code",
   "execution_count": 6,
   "id": "9e9806dc",
   "metadata": {},
   "outputs": [
    {
     "name": "stdout",
     "output_type": "stream",
     "text": [
      "[2002, 2009, 2016, 2023, 2037, 2044, 2051, 2058, 2072, 2079, 2086, 2093, 2107, 2114, 2121, 2128, 2142, 2149, 2156, 2163, 2177, 2184, 2191, 2198, 2212, 2219, 2226, 2233, 2247, 2254, 2261, 2268, 2282, 2289, 2296, 2303, 2317, 2324, 2331, 2338, 2352, 2359, 2366, 2373, 2387, 2394, 2401, 2408, 2422, 2429, 2436, 2443, 2457, 2464, 2471, 2478, 2492, 2499, 2506, 2513, 2527, 2534, 2541, 2548, 2562, 2569, 2576, 2583, 2597, 2604, 2611, 2618, 2632, 2639, 2646, 2653, 2667, 2674, 2681, 2688, 2702, 2709, 2716, 2723, 2737, 2744, 2751, 2758, 2772, 2779, 2786, 2793, 2807, 2814, 2821, 2828, 2842, 2849, 2856, 2863, 2877, 2884, 2891, 2898, 2912, 2919, 2926, 2933, 2947, 2954, 2961, 2968, 2982, 2989, 2996, 3003, 3017, 3024, 3031, 3038, 3052, 3059, 3066, 3073, 3087, 3094, 3101, 3108, 3122, 3129, 3136, 3143, 3157, 3164, 3171, 3178, 3192, 3199]\n"
     ]
    }
   ],
   "source": [
    "list = []\n",
    "for i in range(2000, 3201):\n",
    "    if i % 7 == 0 and i % 5 != 0:\n",
    "        list.append(i)\n",
    "print(list)"
   ]
  },
  {
   "cell_type": "code",
   "execution_count": null,
   "id": "4c19e587",
   "metadata": {},
   "outputs": [],
   "source": [
    "n = int(input(\"Enter an integer: \"))\n",
    "\n",
    "if n == 0:\n",
    "    print(\"Factorial is 1\")\n",
    "else:\n",
    "    x = 1\n",
    "    for i in range(1, n+1):\n",
    "        x *= i\n",
    "    print(x)"
   ]
  },
  {
   "cell_type": "code",
   "execution_count": null,
   "id": "49922081",
   "metadata": {},
   "outputs": [],
   "source": [
    "n = int(input(\"Enter an integer:\"))\n",
    "x = int(n)\n",
    "dict = {}\n",
    "for i in range(1,x+1):\n",
    "    dict[i] = i*i\n",
    "dict "
   ]
  },
  {
   "cell_type": "code",
   "execution_count": 25,
   "id": "ada83c30",
   "metadata": {},
   "outputs": [],
   "source": [
    "str = input(\"Enter string\")\n",
    "n = int(input(\"Enter integer\"))\n",
    "def missing_char(str, n):\n",
    "    str = str[0:n]+str[n+1:(len(str)-1)]\n",
    "return str"
   ]
  },
  {
   "cell_type": "code",
   "execution_count": 28,
   "id": "ee2044c6",
   "metadata": {},
   "outputs": [
    {
     "name": "stdout",
     "output_type": "stream",
     "text": [
      "Original array elements:\n",
      "[[0 1]\n",
      " [2 3]\n",
      " [4 5]]\n",
      "Array to list:\n",
      "[[0, 1], [2, 3], [4, 5]]\n"
     ]
    }
   ],
   "source": [
    "import numpy as np\n",
    "arr = np.array([[0, 1], [2, 3], [4, 5]])\n",
    "liste = arr.tolist()\n",
    "print(\"Original array elements:\")\n",
    "print(arr)\n",
    "print(\"Array to list:\")\n",
    "print(liste)\n"
   ]
  },
  {
   "cell_type": "code",
   "execution_count": 29,
   "id": "1df3950b",
   "metadata": {},
   "outputs": [
    {
     "name": "stdout",
     "output_type": "stream",
     "text": [
      "Original array1: [0 1 2]\n",
      "Original array2: [2 1 0]\n",
      "Covariance matrix of the said arrays: [[ 1. -1.]\n",
      " [-1.  1.]]\n"
     ]
    }
   ],
   "source": [
    "import numpy as np\n",
    "arr1 = np.array([0, 1, 2])\n",
    "arr2 = np.array([2, 1, 0])\n",
    "arr3 = np.cov(arr1, arr2)\n",
    "print(\"Original array1:\", arr1)\n",
    "print(\"Original array2:\", arr2)\n",
    "print(\"Covariance matrix of the said arrays:\", arr3)"
   ]
  },
  {
   "cell_type": "code",
   "execution_count": null,
   "id": "4a6ca80c",
   "metadata": {},
   "outputs": [],
   "source": [
    "import math\n",
    "C = 50\n",
    "H = 30\n",
    "def formula(D):\n",
    "    return round(math.sqrt([(2 * C * D)/H]))\n",
    "\n",
    "x = input(\"Enter D values:\")"
   ]
  }
 ],
 "metadata": {
  "kernelspec": {
   "display_name": "Python 3 (ipykernel)",
   "language": "python",
   "name": "python3"
  },
  "language_info": {
   "codemirror_mode": {
    "name": "ipython",
    "version": 3
   },
   "file_extension": ".py",
   "mimetype": "text/x-python",
   "name": "python",
   "nbconvert_exporter": "python",
   "pygments_lexer": "ipython3",
   "version": "3.11.5"
  }
 },
 "nbformat": 4,
 "nbformat_minor": 5
}
