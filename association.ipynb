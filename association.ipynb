{
 "cells": [
  {
   "cell_type": "code",
   "execution_count": 5,
   "id": "a8de2e95",
   "metadata": {},
   "outputs": [
    {
     "name": "stdout",
     "output_type": "stream",
     "text": [
      "Frequent Itemsets:\n",
      "   support        itemsets\n",
      "0      0.6           (Hat)\n",
      "1      0.8         (Pants)\n",
      "2      0.8         (Scarf)\n",
      "3      0.6         (Skirt)\n",
      "4      0.6  (Pants, Scarf)\n",
      "5      0.6  (Pants, Skirt)\n",
      "\n",
      "Association Rules - Confidence:\n",
      "  antecedents consequents  antecedent support  consequent support  support  \\\n",
      "0     (Pants)     (Scarf)                 0.8                 0.8      0.6   \n",
      "1     (Scarf)     (Pants)                 0.8                 0.8      0.6   \n",
      "2     (Pants)     (Skirt)                 0.8                 0.6      0.6   \n",
      "3     (Skirt)     (Pants)                 0.6                 0.8      0.6   \n",
      "\n",
      "   confidence    lift  leverage  conviction  zhangs_metric  \n",
      "0        0.75  0.9375     -0.04         0.8          -0.25  \n",
      "1        0.75  0.9375     -0.04         0.8          -0.25  \n",
      "2        0.75  1.2500      0.12         1.6           1.00  \n",
      "3        1.00  1.2500      0.12         inf           0.50  \n",
      "\n",
      "Association Rules - Lift:\n",
      "  antecedents consequents  antecedent support  consequent support  support  \\\n",
      "0     (Pants)     (Scarf)                 0.8                 0.8      0.6   \n",
      "1     (Scarf)     (Pants)                 0.8                 0.8      0.6   \n",
      "2     (Pants)     (Skirt)                 0.8                 0.6      0.6   \n",
      "3     (Skirt)     (Pants)                 0.6                 0.8      0.6   \n",
      "\n",
      "   confidence    lift  leverage  conviction  zhangs_metric  \n",
      "0        0.75  0.9375     -0.04         0.8          -0.25  \n",
      "1        0.75  0.9375     -0.04         0.8          -0.25  \n",
      "2        0.75  1.2500      0.12         1.6           1.00  \n",
      "3        1.00  1.2500      0.12         inf           0.50  \n"
     ]
    }
   ],
   "source": [
    "import pandas as pd\n",
    "from mlxtend.preprocessing import TransactionEncoder\n",
    "from mlxtend.frequent_patterns import apriori, association_rules\n",
    "\n",
    "dataset = [['Skirt', 'Sneakers', 'Scarf', 'Pants', 'Hat'],\n",
    "           ['Sunglasses', 'Skirt', 'Sneakers', 'Pants', 'Hat'],\n",
    "           ['Dress', 'Sandals', 'Scarf', 'Pants', 'Heels'],\n",
    "           ['Dress', 'Necklace', 'Earrings', 'Scarf', 'Hat', 'Heels', 'Hat'],\n",
    "           ['Earrings', 'Skirt', 'Skirt', 'Scarf', 'Shirt', 'Pants']]\n",
    "\n",
    "te = TransactionEncoder()\n",
    "te_ary = te.fit(dataset).transform(dataset)\n",
    "df = pd.DataFrame(te_ary, columns=te.columns_)\n",
    "\n",
    "frequent_itemsets = apriori(df, min_support=0.5, use_colnames=True)\n",
    "\n",
    "rules_confidence = association_rules(frequent_itemsets, metric=\"confidence\", min_threshold=0.5)\n",
    "rules_lift = association_rules(frequent_itemsets, metric=\"lift\", min_threshold=0.75)\n",
    "\n",
    "print(\"Frequent Itemsets:\")\n",
    "print(frequent_itemsets)\n",
    "\n",
    "print(\"\\nAssociation Rules - Confidence:\")\n",
    "print(rules_confidence)\n",
    "\n",
    "print(\"\\nAssociation Rules - Lift:\")\n",
    "print(rules_lift)"
   ]
  },
  {
   "cell_type": "code",
   "execution_count": null,
   "id": "7facddf7",
   "metadata": {},
   "outputs": [],
   "source": []
  }
 ],
 "metadata": {
  "kernelspec": {
   "display_name": "Python 3 (ipykernel)",
   "language": "python",
   "name": "python3"
  },
  "language_info": {
   "codemirror_mode": {
    "name": "ipython",
    "version": 3
   },
   "file_extension": ".py",
   "mimetype": "text/x-python",
   "name": "python",
   "nbconvert_exporter": "python",
   "pygments_lexer": "ipython3",
   "version": "3.11.5"
  }
 },
 "nbformat": 4,
 "nbformat_minor": 5
}
