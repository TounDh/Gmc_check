{
 "cells": [
  {
   "cell_type": "code",
   "execution_count": 21,
   "id": "fcd6dd6a",
   "metadata": {},
   "outputs": [
    {
     "name": "stdout",
     "output_type": "stream",
     "text": [
      "score:0.770949720670391\n",
      "Accuracy: 0.8435754189944135\n"
     ]
    }
   ],
   "source": [
    "#Importing our dataset from csv file\n",
    "import pandas as pd \n",
    "from sklearn.model_selection import train_test_split\n",
    "from sklearn import tree   \n",
    "from sklearn.tree import DecisionTreeClassifier\n",
    "from sklearn.ensemble import RandomForestClassifier\n",
    "from sklearn import metrics\n",
    "from sklearn.metrics import accuracy_score\n",
    "\n",
    "\n",
    "dataset=pd.read_csv(\"titanic-passengers.csv\", sep=\";\")\n",
    "\n",
    "#Preprocessing our data\n",
    "def preprocess_data(new_data):\n",
    "    new_data['Age'].fillna(new_data['Age'].mean(),inplace=True)\n",
    "    new_data.replace({'Sex':{'male': 1,'female':0}},inplace=True)\n",
    "    new_data['Cabin']=new_data.Cabin.fillna('G6')\n",
    "    new_data.replace({'Survived':{'Yes': 1,'No':0}},inplace=True)\n",
    "    return new_data\n",
    "data=preprocess_data(dataset)\n",
    "#features extraction\n",
    "x=data.drop([\"Survived\", \"Name\", \"Cabin\", \"Ticket\", \"Embarked\"], axis=1)\n",
    "y= data[\"Survived\"]\n",
    "\n",
    "#splitting data\n",
    "x_train, x_test, y_train, y_test = train_test_split(x,y, test_size=0.20,random_state=20)\n",
    "\n",
    "#applying tree algorithm\n",
    "tree = tree.DecisionTreeClassifier()  \n",
    "tree.fit(x_train, y_train)   #fitting our model\n",
    "y_pred=tree.predict(x_test)   # evaluating our model\n",
    "acc=accuracy_score(y_test, y_pred)\n",
    "print(\"score:{}\".format(acc))\n",
    "\n",
    "#visualizaion\n",
    "\n",
    "#Change parameters\n",
    "\n",
    "tree_new.fit(x_train, y_train)\n",
    "y_pred_new = tree_new.predict(x_test)\n",
    "\n",
    "#new accuracy + comparison\n",
    "accuracy_new = accuracy_score(y_test, y_pred_new)\n",
    "print(\"score:{}\".format(accuracy_new))\n",
    "print(\"Comparison:{}\".format(accuracy_new - acc))\n",
    "\n",
    "\n",
    "#random forest\n",
    "#features extraction\n",
    "\n",
    "clf=RandomForestClassifier(n_estimators=10)  \n",
    "clf.fit(x_train, y_train)  \n",
    "y_pred=clf.predict(x_test) \n",
    "ac=metrics.accuracy_score(y_test, y_pred)\n",
    "print(\"Accuracy:\", ac)  \n",
    "\n",
    "#Change parameters\n",
    "clf_new=RandomForestClassifier(n_estimators=20)  \n",
    "clf_new.fit(x_train, y_train)  \n",
    "y_pred_new=clf_new.predict(x_test) \n",
    "\n",
    "#new accuracy + comparison\n",
    "ac_new = accuracy_score(y_test, y_pred_new)\n",
    "print(\"score:{}\".format(ac_new))\n",
    "print(\"Comparison:{}\".format(ac_new - ac))\n",
    "\n"
   ]
  }
 ],
 "metadata": {
  "kernelspec": {
   "display_name": "Python 3 (ipykernel)",
   "language": "python",
   "name": "python3"
  },
  "language_info": {
   "codemirror_mode": {
    "name": "ipython",
    "version": 3
   },
   "file_extension": ".py",
   "mimetype": "text/x-python",
   "name": "python",
   "nbconvert_exporter": "python",
   "pygments_lexer": "ipython3",
   "version": "3.11.5"
  }
 },
 "nbformat": 4,
 "nbformat_minor": 5
}
